{
 "cells": [
  {
   "cell_type": "code",
   "execution_count": null,
   "metadata": {},
   "outputs": [],
   "source": [
    "2\n",
    "numero_flotante = float(input(\"Ingrese un número flotante: \"))\n",
    "numero_como_cadena = str(numero_flotante)\n",
    "parte_entera, parte_decimal = numero_como_cadena.split(\".\")\n",
    "print(\"Dígitos de la parte entera:\")\n",
    "for digito in parte_entera:\n",
    "    if digito.isdigit():\n",
    "        print(\"[\" + digito + \"]\")\n",
    "print(\"Dígitos de la parte decimal:\")\n",
    "for digito in parte_decimal:\n",
    "    if digito.isdigit():\n",
    "        print(\"[\" + digito + \"]\")"
   ]
  },
  {
   "cell_type": "code",
   "execution_count": null,
   "metadata": {},
   "outputs": [],
   "source": [
    "4\n",
    "import math\n",
    "\n",
    "def aproximacion_coseno(x, n):\n",
    "    aproximacion = 0.0\n",
    "\n",
    "    for i in range(n):\n",
    "        termino = ((-1) ** i) * (x ** (2 * i)) / math.factorial(2 * i)\n",
    "        aproximacion += termino\n",
    "\n",
    "    return aproximacion\n",
    "\n",
    "def encontrar_terminos_con_error(x, error):\n",
    "    n = 0\n",
    "    valor_real = math.cos(x)\n",
    "    while True:\n",
    "        n += 1\n",
    "        aproximacion = aproximacion_coseno(x, n)\n",
    "        error_porcentual = abs((aproximacion - valor_real) / valor_real) * 100\n",
    "        if error_porcentual <= error:\n",
    "            return n\n",
    "\n",
    "x = float(input(\"Ingrese el valor de x: \"))\n",
    "\n",
    "errores = [10, 1, 0.1, 0.01]\n",
    "for error in errores:\n",
    "    n_terminos = encontrar_terminos_con_error(x, error)\n",
    "    print(f\"Con un error del {error}%, se necesitan {n_terminos} términos de la serie de Taylor.\")\n"
   ]
  },
  {
   "cell_type": "code",
   "execution_count": null,
   "metadata": {},
   "outputs": [],
   "source": [
    "6\n",
    "elem_unicos = set()\n",
    "for elemento in lista:\n",
    "    if elemento in elem_unicos:\n",
    "return True\n",
    "elem_unicos.add(elemento)\n",
    "return False\n",
    "entrada = input(\"escriba una lista de elementos separados por espacios: \")\n",
    "#convierte los numero de entrada en un lista\n",
    "elementos = entrada.split()\n",
    "#aplica la funcion\n",
    "hay_repetidos = elem_repetidos(elementos)\n",
    "#imprime los resultados segun la funcion\n",
    "if hay_repetidos:\n",
    "  print(\"La lista contiene elementos repetidos.\")\n",
    "else:\n",
    "  print(\"La lista no contiene elementos repetidos.\")"
   ]
  },
  {
   "cell_type": "code",
   "execution_count": null,
   "metadata": {},
   "outputs": [],
   "source": [
    "8\n",
    "r<eturn [elemento for elemento in lista1 if elemento not in lista2]\n",
    "#pedir las 2 listas\n",
    "lista1 = input(\"escriba la primera lista de elementos separados por espacios: \").split()\n",
    "lista2 = input(\"escriba la segunda lista de elementos separados por espacios: \").split()\n",
    "#se aplica la funcion\n",
    "no_comunes = elementos(lista1, lista2)\n",
    "#imprime los elementos no comunes\n",
    "print(\"Los lementos de la primera lista que no están en la segunda lista son:\")\n",
    "for elemento in no_comunes:\n",
    "  print(elemento)"
   ]
  },
  {
   "cell_type": "code",
   "execution_count": null,
   "metadata": {},
   "outputs": [],
   "source": [
    "10\n",
    "multiplos = []\n",
    "f<or num in lista:\n",
    "if num % 3 == 0:\n",
    "        multiplos.append(num)\n",
    "return multiplos\n",
    "#pedir los numeros separados por espacio y hacer cada valor un dato independiente\n",
    "entrada = input(\"Ingresa los valores de la lista separados por espacios: \")\n",
    "valores = [int(valor) for valor in entrada.split()]\n",
    "#usa la funcion en la lista creada\n",
    "multiplos = multiplos_de_tres(valores)\n",
    "print(\"Los múltiplos de 3 en la lista son:\", multiplos)\n"
   ]
  }
 ],
 "metadata": {
  "kernelspec": {
   "display_name": "Python 3",
   "language": "python",
   "name": "python3"
  },
  "language_info": {
   "name": "python",
   "version": "3.11.4"
  }
 },
 "nbformat": 4,
 "nbformat_minor": 2
}
